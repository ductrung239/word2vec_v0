{
 "cells": [
  {
   "cell_type": "code",
   "execution_count": 1,
   "metadata": {},
   "outputs": [],
   "source": [
    "import os\n",
    "import pandas as pd\n",
    "import string\n",
    "from pyvi import ViTokenizer\n",
    "from gensim.models import Word2Vec"
   ]
  },
  {
   "cell_type": "code",
   "execution_count": null,
   "metadata": {},
   "outputs": [],
   "source": [
    "pathdata = 'datatrain.txt'"
   ]
  },
  {
   "cell_type": "code",
   "execution_count": null,
   "metadata": {},
   "outputs": [],
   "source": [
    "def read_data(path):\n",
    "    traindata = []\n",
    "    sents = open(pathdata, 'r').readlines()\n",
    "    for sent in sents:\n",
    "        traindata.append(sent.decode('utf-8').split())\n",
    "    return traindata"
   ]
  },
  {
   "cell_type": "code",
   "execution_count": null,
   "metadata": {},
   "outputs": [],
   "source": [
    "train_data = read_data(pathdata)\n",
    "\n",
    "# Skipgram model\n",
    "\n",
    "model = Word2Vec(train_data, smin_count = 1, size =300, window = 5, sg = 1)\n",
    "model.wv.save(\"word2vec_skipgram.bin\")\n",
    "\n",
    "# CBOW model\n",
    "\n",
    "model = Word2Vec(train_data, smin_count = 1, size =300, window = 5, sg = 0)\n",
    "model.wv.save(\"word2vec_skipgram.bin\")\n",
    "\n"
   ]
  }
 ],
 "metadata": {
  "kernelspec": {
   "display_name": "Python 3",
   "language": "python",
   "name": "python3"
  },
  "language_info": {
   "codemirror_mode": {
    "name": "ipython",
    "version": 3
   },
   "file_extension": ".py",
   "mimetype": "text/x-python",
   "name": "python",
   "nbconvert_exporter": "python",
   "pygments_lexer": "ipython3",
   "version": "3.6.5"
  }
 },
 "nbformat": 4,
 "nbformat_minor": 2
}
